{
 "cells": [
  {
   "cell_type": "markdown",
   "id": "7010b190",
   "metadata": {},
   "source": [
    "#### Carga de CSVs\n"
   ]
  },
  {
   "cell_type": "code",
   "execution_count": null,
   "id": "aca28905",
   "metadata": {},
   "outputs": [],
   "source": [
    "import pandas as pd\n",
    "import numpy as np\n",
    "\n",
    "df_imp = pd.read_csv('./df_importacion.csv')\n",
    "df_con = pd.read_csv('./df_consumo.csv')"
   ]
  },
  {
   "cell_type": "markdown",
   "id": "8bfae92b",
   "metadata": {},
   "source": [
    "#### Definición de códigos de faltante/especiales\n"
   ]
  },
  {
   "cell_type": "code",
   "execution_count": null,
   "id": "ff672afe",
   "metadata": {},
   "outputs": [],
   "source": [
    "sentinels = {\n",
    "    -1: 'sin dato',\n",
    "    999: 'no aplica',\n",
    "}"
   ]
  },
  {
   "cell_type": "markdown",
   "id": "7b0d1d25",
   "metadata": {},
   "source": [
    "#### Función para generar resumen por columna\n"
   ]
  },
  {
   "cell_type": "code",
   "execution_count": null,
   "id": "9afb7583",
   "metadata": {},
   "outputs": [],
   "source": [
    "def resumir_columna(col, serie):\n",
    "    d = {}\n",
    "    d['Nombre'] = col\n",
    "    d['Tipo de dato'] = str(serie.dtype)\n",
    "    # conteos y nulos\n",
    "    d['COUNT'] = int(serie.count())\n",
    "    d['Missing (NaN)'] = int(serie.isna().sum())\n",
    "    # buscar sentinels\n",
    "    d['Valores especiales/faltante'] = {\n",
    "        code: int((serie == code).sum())\n",
    "        for code in sentinels if code in serie.values\n",
    "    }\n",
    "    # estadísitcas básicas para numéricos\n",
    "    if pd.api.types.is_numeric_dtype(serie):\n",
    "        d.update({\n",
    "            'MIN': serie.min(),\n",
    "            'MAX': serie.max(),\n",
    "            'AVG': serie.mean(),\n",
    "            'MEDIAN': serie.median(),\n",
    "        })\n",
    "    else:\n",
    "        d.update({\n",
    "            'UNIQUE': int(serie.nunique()),\n",
    "            'TOP':    serie.mode().iat[0] if not serie.mode().empty else None\n",
    "        })\n",
    "    # posibles valores (muestra hasta 10)\n",
    "    d['Valores posibles (muestra)'] = list(serie.dropna().unique()[:10])\n",
    "    return d\n",
    "\n"
   ]
  },
  {
   "cell_type": "markdown",
   "id": "14fbfa47",
   "metadata": {},
   "source": [
    "#### Generar codebook para cada DataFrame"
   ]
  },
  {
   "cell_type": "code",
   "execution_count": null,
   "id": "70de93b2",
   "metadata": {},
   "outputs": [
    {
     "data": {
      "application/vnd.microsoft.datawrangler.viewer.v0+json": {
       "columns": [
        {
         "name": "index",
         "rawType": "int64",
         "type": "integer"
        },
        {
         "name": "Nombre",
         "rawType": "object",
         "type": "string"
        },
        {
         "name": "Tipo de dato",
         "rawType": "object",
         "type": "string"
        },
        {
         "name": "COUNT",
         "rawType": "int64",
         "type": "integer"
        },
        {
         "name": "Missing (NaN)",
         "rawType": "int64",
         "type": "integer"
        },
        {
         "name": "Valores especiales/faltante",
         "rawType": "object",
         "type": "unknown"
        },
        {
         "name": "UNIQUE",
         "rawType": "float64",
         "type": "float"
        },
        {
         "name": "TOP",
         "rawType": "object",
         "type": "unknown"
        },
        {
         "name": "Valores posibles (muestra)",
         "rawType": "object",
         "type": "unknown"
        },
        {
         "name": "MIN",
         "rawType": "float64",
         "type": "float"
        },
        {
         "name": "MAX",
         "rawType": "float64",
         "type": "float"
        },
        {
         "name": "AVG",
         "rawType": "float64",
         "type": "float"
        },
        {
         "name": "MEDIAN",
         "rawType": "float64",
         "type": "float"
        }
       ],
       "ref": "5bfac827-b6f9-4b1a-810f-fc7f3ad4ec4d",
       "rows": [
        [
         "0",
         "Fecha",
         "object",
         "300",
         "0",
         "{}",
         "300.0",
         "2000-01-01",
         "['2000-01-01', '2000-02-01', '2000-03-01', '2000-04-01', '2000-05-01', '2000-06-01', '2000-07-01', '2000-08-01', '2000-09-01', '2000-10-01']",
         null,
         null,
         null,
         null
        ],
        [
         "1",
         "Gasolina regular",
         "float64",
         "300",
         "0",
         "{}",
         null,
         null,
         "[np.float64(202645.2), np.float64(205530.96), np.float64(229499.56), np.float64(210680.4), np.float64(208164.34), np.float64(195088.74), np.float64(204556.77), np.float64(218388.51), np.float64(213906.96), np.float64(213606.65)]",
         "160741.9",
         "938086.57",
         "397478.8944575397",
         "288193.13"
        ],
        [
         "2",
         "Gasolina superior",
         "float64",
         "300",
         "0",
         "{}",
         null,
         null,
         "[np.float64(308156.82), np.float64(307766.31), np.float64(331910.29), np.float64(315648.08), np.float64(319667.97), np.float64(300347.7), np.float64(308305.93), np.float64(323011.86), np.float64(326455.72), np.float64(323843.63)]",
         "300242.7816666665",
         "786598.12",
         "470248.6788488889",
         "423319.54000000004"
        ],
        [
         "3",
         "Diesel",
         "float64",
         "300",
         "0",
         "{}",
         null,
         null,
         "[np.float64(634667.06), np.float64(642380.66), np.float64(699807.25), np.float64(586803.98), np.float64(656948.2), np.float64(570919.88), np.float64(576436.02), np.float64(593770.77), np.float64(590145.4), np.float64(641113.36)]",
         "507662.65",
         "1499266.1",
         "882130.1539450095",
         "811038.175"
        ]
       ],
       "shape": {
        "columns": 12,
        "rows": 4
       }
      },
      "text/html": [
       "<div>\n",
       "<style scoped>\n",
       "    .dataframe tbody tr th:only-of-type {\n",
       "        vertical-align: middle;\n",
       "    }\n",
       "\n",
       "    .dataframe tbody tr th {\n",
       "        vertical-align: top;\n",
       "    }\n",
       "\n",
       "    .dataframe thead th {\n",
       "        text-align: right;\n",
       "    }\n",
       "</style>\n",
       "<table border=\"1\" class=\"dataframe\">\n",
       "  <thead>\n",
       "    <tr style=\"text-align: right;\">\n",
       "      <th></th>\n",
       "      <th>Nombre</th>\n",
       "      <th>Tipo de dato</th>\n",
       "      <th>COUNT</th>\n",
       "      <th>Missing (NaN)</th>\n",
       "      <th>Valores especiales/faltante</th>\n",
       "      <th>UNIQUE</th>\n",
       "      <th>TOP</th>\n",
       "      <th>Valores posibles (muestra)</th>\n",
       "      <th>MIN</th>\n",
       "      <th>MAX</th>\n",
       "      <th>AVG</th>\n",
       "      <th>MEDIAN</th>\n",
       "    </tr>\n",
       "  </thead>\n",
       "  <tbody>\n",
       "    <tr>\n",
       "      <th>0</th>\n",
       "      <td>Fecha</td>\n",
       "      <td>object</td>\n",
       "      <td>300</td>\n",
       "      <td>0</td>\n",
       "      <td>{}</td>\n",
       "      <td>300.0</td>\n",
       "      <td>2000-01-01</td>\n",
       "      <td>[2000-01-01, 2000-02-01, 2000-03-01, 2000-04-0...</td>\n",
       "      <td>NaN</td>\n",
       "      <td>NaN</td>\n",
       "      <td>NaN</td>\n",
       "      <td>NaN</td>\n",
       "    </tr>\n",
       "    <tr>\n",
       "      <th>1</th>\n",
       "      <td>Gasolina regular</td>\n",
       "      <td>float64</td>\n",
       "      <td>300</td>\n",
       "      <td>0</td>\n",
       "      <td>{}</td>\n",
       "      <td>NaN</td>\n",
       "      <td>NaN</td>\n",
       "      <td>[202645.2, 205530.96, 229499.56, 210680.4, 208...</td>\n",
       "      <td>160741.900000</td>\n",
       "      <td>938086.57</td>\n",
       "      <td>397478.894458</td>\n",
       "      <td>288193.130</td>\n",
       "    </tr>\n",
       "    <tr>\n",
       "      <th>2</th>\n",
       "      <td>Gasolina superior</td>\n",
       "      <td>float64</td>\n",
       "      <td>300</td>\n",
       "      <td>0</td>\n",
       "      <td>{}</td>\n",
       "      <td>NaN</td>\n",
       "      <td>NaN</td>\n",
       "      <td>[308156.82, 307766.31, 331910.29, 315648.08, 3...</td>\n",
       "      <td>300242.781667</td>\n",
       "      <td>786598.12</td>\n",
       "      <td>470248.678849</td>\n",
       "      <td>423319.540</td>\n",
       "    </tr>\n",
       "    <tr>\n",
       "      <th>3</th>\n",
       "      <td>Diesel</td>\n",
       "      <td>float64</td>\n",
       "      <td>300</td>\n",
       "      <td>0</td>\n",
       "      <td>{}</td>\n",
       "      <td>NaN</td>\n",
       "      <td>NaN</td>\n",
       "      <td>[634667.06, 642380.66, 699807.25, 586803.98, 6...</td>\n",
       "      <td>507662.650000</td>\n",
       "      <td>1499266.10</td>\n",
       "      <td>882130.153945</td>\n",
       "      <td>811038.175</td>\n",
       "    </tr>\n",
       "  </tbody>\n",
       "</table>\n",
       "</div>"
      ],
      "text/plain": [
       "              Nombre Tipo de dato  COUNT  Missing (NaN)  \\\n",
       "0              Fecha       object    300              0   \n",
       "1   Gasolina regular      float64    300              0   \n",
       "2  Gasolina superior      float64    300              0   \n",
       "3             Diesel      float64    300              0   \n",
       "\n",
       "  Valores especiales/faltante  UNIQUE         TOP  \\\n",
       "0                          {}   300.0  2000-01-01   \n",
       "1                          {}     NaN         NaN   \n",
       "2                          {}     NaN         NaN   \n",
       "3                          {}     NaN         NaN   \n",
       "\n",
       "                          Valores posibles (muestra)            MIN  \\\n",
       "0  [2000-01-01, 2000-02-01, 2000-03-01, 2000-04-0...            NaN   \n",
       "1  [202645.2, 205530.96, 229499.56, 210680.4, 208...  160741.900000   \n",
       "2  [308156.82, 307766.31, 331910.29, 315648.08, 3...  300242.781667   \n",
       "3  [634667.06, 642380.66, 699807.25, 586803.98, 6...  507662.650000   \n",
       "\n",
       "          MAX            AVG      MEDIAN  \n",
       "0         NaN            NaN         NaN  \n",
       "1   938086.57  397478.894458  288193.130  \n",
       "2   786598.12  470248.678849  423319.540  \n",
       "3  1499266.10  882130.153945  811038.175  "
      ]
     },
     "execution_count": 4,
     "metadata": {},
     "output_type": "execute_result"
    }
   ],
   "source": [
    "def generar_codebook(df):\n",
    "    resumen = [resumir_columna(c, df[c]) for c in df.columns]\n",
    "    return pd.DataFrame(resumen)\n",
    "\n",
    "codebook_imp = generar_codebook(df_imp)\n",
    "codebook_con = generar_codebook(df_con)"
   ]
  },
  {
   "cell_type": "markdown",
   "id": "710e4e4a",
   "metadata": {},
   "source": [
    "#### Codebook Importaciones"
   ]
  },
  {
   "cell_type": "code",
   "execution_count": null,
   "id": "f5a875a3",
   "metadata": {},
   "outputs": [
    {
     "data": {
      "application/vnd.microsoft.datawrangler.viewer.v0+json": {
       "columns": [
        {
         "name": "index",
         "rawType": "int64",
         "type": "integer"
        },
        {
         "name": "Nombre",
         "rawType": "object",
         "type": "string"
        },
        {
         "name": "Tipo de dato",
         "rawType": "object",
         "type": "string"
        },
        {
         "name": "COUNT",
         "rawType": "int64",
         "type": "integer"
        },
        {
         "name": "Missing (NaN)",
         "rawType": "int64",
         "type": "integer"
        },
        {
         "name": "Valores especiales/faltante",
         "rawType": "object",
         "type": "unknown"
        },
        {
         "name": "UNIQUE",
         "rawType": "float64",
         "type": "float"
        },
        {
         "name": "TOP",
         "rawType": "object",
         "type": "unknown"
        },
        {
         "name": "Valores posibles (muestra)",
         "rawType": "object",
         "type": "unknown"
        },
        {
         "name": "MIN",
         "rawType": "float64",
         "type": "float"
        },
        {
         "name": "MAX",
         "rawType": "float64",
         "type": "float"
        },
        {
         "name": "AVG",
         "rawType": "float64",
         "type": "float"
        },
        {
         "name": "MEDIAN",
         "rawType": "float64",
         "type": "float"
        }
       ],
       "ref": "cd784f45-deea-4108-8e28-3f90f1358288",
       "rows": [
        [
         "0",
         "Fecha",
         "object",
         "288",
         "0",
         "{}",
         "288.0",
         "2001-01-01",
         "['2001-01-01', '2001-02-01', '2001-03-01', '2001-04-01', '2001-05-01', '2001-06-01', '2001-07-01', '2001-08-01', '2001-09-01', '2001-10-01']",
         null,
         null,
         null,
         null
        ],
        [
         "1",
         "Gasolina regular",
         "float64",
         "288",
         "0",
         "{}",
         null,
         null,
         "[np.float64(177776.5), np.float64(123115.99), np.float64(161726.42), np.float64(127338.74), np.float64(168730.19), np.float64(152899.09), np.float64(136299.13), np.float64(139365.07), np.float64(233643.75), np.float64(141550.22)]",
         "81015.3",
         "1141365.94",
         "412949.32702695107",
         "327559.33999999997"
        ],
        [
         "2",
         "Gasolina superior",
         "float64",
         "288",
         "0",
         "{}",
         null,
         null,
         "[np.float64(373963.96), np.float64(243091.07), np.float64(312084.38), np.float64(285054.89), np.float64(300913.67), np.float64(333217.19), np.float64(195071.86), np.float64(268153.26), np.float64(308439.07), np.float64(305102.28)]",
         "170292.5",
         "1227173.53",
         "490954.38287152775",
         "481300.20999999996"
        ],
        [
         "3",
         "Diesel",
         "float64",
         "288",
         "0",
         "{}",
         null,
         null,
         "[np.float64(566101.99), np.float64(489525.8), np.float64(575559.68), np.float64(437745.42), np.float64(552609.13), np.float64(497855.26), np.float64(302350.02), np.float64(464159.13), np.float64(321952.94), np.float64(438989.55)]",
         "229764.74",
         "1630635.64",
         "895095.7162013889",
         "846286.105"
        ]
       ],
       "shape": {
        "columns": 12,
        "rows": 4
       }
      },
      "text/html": [
       "<div>\n",
       "<style scoped>\n",
       "    .dataframe tbody tr th:only-of-type {\n",
       "        vertical-align: middle;\n",
       "    }\n",
       "\n",
       "    .dataframe tbody tr th {\n",
       "        vertical-align: top;\n",
       "    }\n",
       "\n",
       "    .dataframe thead th {\n",
       "        text-align: right;\n",
       "    }\n",
       "</style>\n",
       "<table border=\"1\" class=\"dataframe\">\n",
       "  <thead>\n",
       "    <tr style=\"text-align: right;\">\n",
       "      <th></th>\n",
       "      <th>Nombre</th>\n",
       "      <th>Tipo de dato</th>\n",
       "      <th>COUNT</th>\n",
       "      <th>Missing (NaN)</th>\n",
       "      <th>Valores especiales/faltante</th>\n",
       "      <th>UNIQUE</th>\n",
       "      <th>TOP</th>\n",
       "      <th>Valores posibles (muestra)</th>\n",
       "      <th>MIN</th>\n",
       "      <th>MAX</th>\n",
       "      <th>AVG</th>\n",
       "      <th>MEDIAN</th>\n",
       "    </tr>\n",
       "  </thead>\n",
       "  <tbody>\n",
       "    <tr>\n",
       "      <th>0</th>\n",
       "      <td>Fecha</td>\n",
       "      <td>object</td>\n",
       "      <td>288</td>\n",
       "      <td>0</td>\n",
       "      <td>{}</td>\n",
       "      <td>288.0</td>\n",
       "      <td>2001-01-01</td>\n",
       "      <td>[2001-01-01, 2001-02-01, 2001-03-01, 2001-04-0...</td>\n",
       "      <td>NaN</td>\n",
       "      <td>NaN</td>\n",
       "      <td>NaN</td>\n",
       "      <td>NaN</td>\n",
       "    </tr>\n",
       "    <tr>\n",
       "      <th>1</th>\n",
       "      <td>Gasolina regular</td>\n",
       "      <td>float64</td>\n",
       "      <td>288</td>\n",
       "      <td>0</td>\n",
       "      <td>{}</td>\n",
       "      <td>NaN</td>\n",
       "      <td>NaN</td>\n",
       "      <td>[177776.5, 123115.99, 161726.42, 127338.74, 16...</td>\n",
       "      <td>81015.30</td>\n",
       "      <td>1141365.94</td>\n",
       "      <td>412949.327027</td>\n",
       "      <td>327559.340</td>\n",
       "    </tr>\n",
       "    <tr>\n",
       "      <th>2</th>\n",
       "      <td>Gasolina superior</td>\n",
       "      <td>float64</td>\n",
       "      <td>288</td>\n",
       "      <td>0</td>\n",
       "      <td>{}</td>\n",
       "      <td>NaN</td>\n",
       "      <td>NaN</td>\n",
       "      <td>[373963.96, 243091.07, 312084.38, 285054.89, 3...</td>\n",
       "      <td>170292.50</td>\n",
       "      <td>1227173.53</td>\n",
       "      <td>490954.382872</td>\n",
       "      <td>481300.210</td>\n",
       "    </tr>\n",
       "    <tr>\n",
       "      <th>3</th>\n",
       "      <td>Diesel</td>\n",
       "      <td>float64</td>\n",
       "      <td>288</td>\n",
       "      <td>0</td>\n",
       "      <td>{}</td>\n",
       "      <td>NaN</td>\n",
       "      <td>NaN</td>\n",
       "      <td>[566101.99, 489525.8, 575559.68, 437745.42, 55...</td>\n",
       "      <td>229764.74</td>\n",
       "      <td>1630635.64</td>\n",
       "      <td>895095.716201</td>\n",
       "      <td>846286.105</td>\n",
       "    </tr>\n",
       "  </tbody>\n",
       "</table>\n",
       "</div>"
      ],
      "text/plain": [
       "              Nombre Tipo de dato  COUNT  Missing (NaN)  \\\n",
       "0              Fecha       object    288              0   \n",
       "1   Gasolina regular      float64    288              0   \n",
       "2  Gasolina superior      float64    288              0   \n",
       "3             Diesel      float64    288              0   \n",
       "\n",
       "  Valores especiales/faltante  UNIQUE         TOP  \\\n",
       "0                          {}   288.0  2001-01-01   \n",
       "1                          {}     NaN         NaN   \n",
       "2                          {}     NaN         NaN   \n",
       "3                          {}     NaN         NaN   \n",
       "\n",
       "                          Valores posibles (muestra)        MIN         MAX  \\\n",
       "0  [2001-01-01, 2001-02-01, 2001-03-01, 2001-04-0...        NaN         NaN   \n",
       "1  [177776.5, 123115.99, 161726.42, 127338.74, 16...   81015.30  1141365.94   \n",
       "2  [373963.96, 243091.07, 312084.38, 285054.89, 3...  170292.50  1227173.53   \n",
       "3  [566101.99, 489525.8, 575559.68, 437745.42, 55...  229764.74  1630635.64   \n",
       "\n",
       "             AVG      MEDIAN  \n",
       "0            NaN         NaN  \n",
       "1  412949.327027  327559.340  \n",
       "2  490954.382872  481300.210  \n",
       "3  895095.716201  846286.105  "
      ]
     },
     "metadata": {},
     "output_type": "display_data"
    }
   ],
   "source": [
    "display(codebook_imp)\n"
   ]
  },
  {
   "cell_type": "markdown",
   "id": "550be5a4",
   "metadata": {},
   "source": [
    "#### Codebook Importaciones"
   ]
  },
  {
   "cell_type": "code",
   "execution_count": 6,
   "id": "3c74f573",
   "metadata": {},
   "outputs": [
    {
     "data": {
      "application/vnd.microsoft.datawrangler.viewer.v0+json": {
       "columns": [
        {
         "name": "index",
         "rawType": "int64",
         "type": "integer"
        },
        {
         "name": "Nombre",
         "rawType": "object",
         "type": "string"
        },
        {
         "name": "Tipo de dato",
         "rawType": "object",
         "type": "string"
        },
        {
         "name": "COUNT",
         "rawType": "int64",
         "type": "integer"
        },
        {
         "name": "Missing (NaN)",
         "rawType": "int64",
         "type": "integer"
        },
        {
         "name": "Valores especiales/faltante",
         "rawType": "object",
         "type": "unknown"
        },
        {
         "name": "UNIQUE",
         "rawType": "float64",
         "type": "float"
        },
        {
         "name": "TOP",
         "rawType": "object",
         "type": "unknown"
        },
        {
         "name": "Valores posibles (muestra)",
         "rawType": "object",
         "type": "unknown"
        },
        {
         "name": "MIN",
         "rawType": "float64",
         "type": "float"
        },
        {
         "name": "MAX",
         "rawType": "float64",
         "type": "float"
        },
        {
         "name": "AVG",
         "rawType": "float64",
         "type": "float"
        },
        {
         "name": "MEDIAN",
         "rawType": "float64",
         "type": "float"
        }
       ],
       "ref": "714eb8c0-77e1-44ff-8576-e463bcee5b6f",
       "rows": [
        [
         "0",
         "Fecha",
         "object",
         "300",
         "0",
         "{}",
         "300.0",
         "2000-01-01",
         "['2000-01-01', '2000-02-01', '2000-03-01', '2000-04-01', '2000-05-01', '2000-06-01', '2000-07-01', '2000-08-01', '2000-09-01', '2000-10-01']",
         null,
         null,
         null,
         null
        ],
        [
         "1",
         "Gasolina regular",
         "float64",
         "300",
         "0",
         "{}",
         null,
         null,
         "[np.float64(202645.2), np.float64(205530.96), np.float64(229499.56), np.float64(210680.4), np.float64(208164.34), np.float64(195088.74), np.float64(204556.77), np.float64(218388.51), np.float64(213906.96), np.float64(213606.65)]",
         "160741.9",
         "938086.57",
         "397478.8944575397",
         "288193.13"
        ],
        [
         "2",
         "Gasolina superior",
         "float64",
         "300",
         "0",
         "{}",
         null,
         null,
         "[np.float64(308156.82), np.float64(307766.31), np.float64(331910.29), np.float64(315648.08), np.float64(319667.97), np.float64(300347.7), np.float64(308305.93), np.float64(323011.86), np.float64(326455.72), np.float64(323843.63)]",
         "300242.7816666665",
         "786598.12",
         "470248.6788488889",
         "423319.54000000004"
        ],
        [
         "3",
         "Diesel",
         "float64",
         "300",
         "0",
         "{}",
         null,
         null,
         "[np.float64(634667.06), np.float64(642380.66), np.float64(699807.25), np.float64(586803.98), np.float64(656948.2), np.float64(570919.88), np.float64(576436.02), np.float64(593770.77), np.float64(590145.4), np.float64(641113.36)]",
         "507662.65",
         "1499266.1",
         "882130.1539450095",
         "811038.175"
        ]
       ],
       "shape": {
        "columns": 12,
        "rows": 4
       }
      },
      "text/html": [
       "<div>\n",
       "<style scoped>\n",
       "    .dataframe tbody tr th:only-of-type {\n",
       "        vertical-align: middle;\n",
       "    }\n",
       "\n",
       "    .dataframe tbody tr th {\n",
       "        vertical-align: top;\n",
       "    }\n",
       "\n",
       "    .dataframe thead th {\n",
       "        text-align: right;\n",
       "    }\n",
       "</style>\n",
       "<table border=\"1\" class=\"dataframe\">\n",
       "  <thead>\n",
       "    <tr style=\"text-align: right;\">\n",
       "      <th></th>\n",
       "      <th>Nombre</th>\n",
       "      <th>Tipo de dato</th>\n",
       "      <th>COUNT</th>\n",
       "      <th>Missing (NaN)</th>\n",
       "      <th>Valores especiales/faltante</th>\n",
       "      <th>UNIQUE</th>\n",
       "      <th>TOP</th>\n",
       "      <th>Valores posibles (muestra)</th>\n",
       "      <th>MIN</th>\n",
       "      <th>MAX</th>\n",
       "      <th>AVG</th>\n",
       "      <th>MEDIAN</th>\n",
       "    </tr>\n",
       "  </thead>\n",
       "  <tbody>\n",
       "    <tr>\n",
       "      <th>0</th>\n",
       "      <td>Fecha</td>\n",
       "      <td>object</td>\n",
       "      <td>300</td>\n",
       "      <td>0</td>\n",
       "      <td>{}</td>\n",
       "      <td>300.0</td>\n",
       "      <td>2000-01-01</td>\n",
       "      <td>[2000-01-01, 2000-02-01, 2000-03-01, 2000-04-0...</td>\n",
       "      <td>NaN</td>\n",
       "      <td>NaN</td>\n",
       "      <td>NaN</td>\n",
       "      <td>NaN</td>\n",
       "    </tr>\n",
       "    <tr>\n",
       "      <th>1</th>\n",
       "      <td>Gasolina regular</td>\n",
       "      <td>float64</td>\n",
       "      <td>300</td>\n",
       "      <td>0</td>\n",
       "      <td>{}</td>\n",
       "      <td>NaN</td>\n",
       "      <td>NaN</td>\n",
       "      <td>[202645.2, 205530.96, 229499.56, 210680.4, 208...</td>\n",
       "      <td>160741.900000</td>\n",
       "      <td>938086.57</td>\n",
       "      <td>397478.894458</td>\n",
       "      <td>288193.130</td>\n",
       "    </tr>\n",
       "    <tr>\n",
       "      <th>2</th>\n",
       "      <td>Gasolina superior</td>\n",
       "      <td>float64</td>\n",
       "      <td>300</td>\n",
       "      <td>0</td>\n",
       "      <td>{}</td>\n",
       "      <td>NaN</td>\n",
       "      <td>NaN</td>\n",
       "      <td>[308156.82, 307766.31, 331910.29, 315648.08, 3...</td>\n",
       "      <td>300242.781667</td>\n",
       "      <td>786598.12</td>\n",
       "      <td>470248.678849</td>\n",
       "      <td>423319.540</td>\n",
       "    </tr>\n",
       "    <tr>\n",
       "      <th>3</th>\n",
       "      <td>Diesel</td>\n",
       "      <td>float64</td>\n",
       "      <td>300</td>\n",
       "      <td>0</td>\n",
       "      <td>{}</td>\n",
       "      <td>NaN</td>\n",
       "      <td>NaN</td>\n",
       "      <td>[634667.06, 642380.66, 699807.25, 586803.98, 6...</td>\n",
       "      <td>507662.650000</td>\n",
       "      <td>1499266.10</td>\n",
       "      <td>882130.153945</td>\n",
       "      <td>811038.175</td>\n",
       "    </tr>\n",
       "  </tbody>\n",
       "</table>\n",
       "</div>"
      ],
      "text/plain": [
       "              Nombre Tipo de dato  COUNT  Missing (NaN)  \\\n",
       "0              Fecha       object    300              0   \n",
       "1   Gasolina regular      float64    300              0   \n",
       "2  Gasolina superior      float64    300              0   \n",
       "3             Diesel      float64    300              0   \n",
       "\n",
       "  Valores especiales/faltante  UNIQUE         TOP  \\\n",
       "0                          {}   300.0  2000-01-01   \n",
       "1                          {}     NaN         NaN   \n",
       "2                          {}     NaN         NaN   \n",
       "3                          {}     NaN         NaN   \n",
       "\n",
       "                          Valores posibles (muestra)            MIN  \\\n",
       "0  [2000-01-01, 2000-02-01, 2000-03-01, 2000-04-0...            NaN   \n",
       "1  [202645.2, 205530.96, 229499.56, 210680.4, 208...  160741.900000   \n",
       "2  [308156.82, 307766.31, 331910.29, 315648.08, 3...  300242.781667   \n",
       "3  [634667.06, 642380.66, 699807.25, 586803.98, 6...  507662.650000   \n",
       "\n",
       "          MAX            AVG      MEDIAN  \n",
       "0         NaN            NaN         NaN  \n",
       "1   938086.57  397478.894458  288193.130  \n",
       "2   786598.12  470248.678849  423319.540  \n",
       "3  1499266.10  882130.153945  811038.175  "
      ]
     },
     "metadata": {},
     "output_type": "display_data"
    }
   ],
   "source": [
    "display(codebook_con)"
   ]
  },
  {
   "cell_type": "markdown",
   "id": "597022df",
   "metadata": {},
   "source": [
    "#### Exportación como CSVs"
   ]
  },
  {
   "cell_type": "code",
   "execution_count": 7,
   "id": "98e988cf",
   "metadata": {},
   "outputs": [],
   "source": [
    "codebook_con.to_csv('codebook_con.csv', index=False)\n",
    "codebook_imp.to_csv('codebook_imp.csv', index=False)"
   ]
  }
 ],
 "metadata": {
  "kernelspec": {
   "display_name": "venv",
   "language": "python",
   "name": "python3"
  },
  "language_info": {
   "codemirror_mode": {
    "name": "ipython",
    "version": 3
   },
   "file_extension": ".py",
   "mimetype": "text/x-python",
   "name": "python",
   "nbconvert_exporter": "python",
   "pygments_lexer": "ipython3",
   "version": "3.12.1"
  }
 },
 "nbformat": 4,
 "nbformat_minor": 5
}
